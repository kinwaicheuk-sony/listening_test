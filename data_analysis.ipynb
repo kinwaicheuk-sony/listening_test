{
 "cells": [
  {
   "cell_type": "code",
   "execution_count": null,
   "metadata": {},
   "outputs": [],
   "source": [
    "import pandas as pd\n",
    "import csv"
   ]
  },
  {
   "cell_type": "code",
   "execution_count": null,
   "metadata": {},
   "outputs": [],
   "source": [
    "data = pd.read_csv('Woosung.csv')"
   ]
  },
  {
   "cell_type": "code",
   "execution_count": null,
   "metadata": {},
   "outputs": [],
   "source": [
    "# Define a function to compute vote rates for DDS vs other models\n",
    "def compute_vote_rates(processed_data, ground_truth, selection_control, model_names, audio_type_map):\n",
    "    \"\"\" Compute DDS vote rates for different model comparisons. \"\"\"\n",
    "    # Initialize vote counts\n",
    "    votes = {name: 0 for name in model_names}\n",
    "    totals = {name: 0 for name in model_names}\n",
    "\n",
    "    # Loop through the processed data and calculate vote rates\n",
    "    for _, row in processed_data.iterrows():\n",
    "        q_index = row[\"question\"]\n",
    "        selected = row[\"selection\"]\n",
    "\n",
    "        if q_index >= len(ground_truth):\n",
    "            continue  # Skip if question index is out of bounds\n",
    "\n",
    "        true_label = ground_truth[q_index]  # 0 means dds is first, 1 means dds is second\n",
    "        model_pair = selection_control[q_index % len(selection_control)]  # Get comparison pair\n",
    "\n",
    "        # Check which model is compared to DDS\n",
    "        if 0 in model_pair:  # If DDS is in the pair\n",
    "            dds_position = model_pair.index(0)  # Find position of DDS (0=first, 1=second)\n",
    "\n",
    "            # Update vote counts for DDS vs selected model\n",
    "            if selected == dds_position:\n",
    "                for i, model in enumerate(model_names):\n",
    "                    if audio_type_map[model] in model_pair and model != \"dds\":\n",
    "                        votes[model] += 1\n",
    "\n",
    "            for i, model in enumerate(model_names):\n",
    "                if audio_type_map[model] in model_pair and model != \"dds\":\n",
    "                    totals[model] += 1\n",
    "\n",
    "    return votes, totals\n",
    "\n",
    "# Example function call with your data\n",
    "def analyze_question_set(processed_data, ground_truth, selection_control, model_names, audio_type_map):\n",
    "    # Get the vote rates for the specified comparison\n",
    "    votes, totals = compute_vote_rates(\n",
    "        processed_data, ground_truth, selection_control, model_names, audio_type_map\n",
    "    )\n",
    "\n",
    "    # Print results dynamically\n",
    "    for model in model_names:\n",
    "        if model != \"dds\":\n",
    "            rate = votes[model] / totals[model] if totals[model] > 0 else 0\n",
    "            print(f\"DDS vs. {model.capitalize()}: {rate:.2%} ({votes[model]}/{totals[model]})\")\n"
   ]
  },
  {
   "cell_type": "code",
   "execution_count": null,
   "metadata": {},
   "outputs": [],
   "source": [
    "# Call the function to analyze the first question set\n",
    "processed_data = data[data['question_type'] == 'test1'].drop_duplicates()\n",
    "# Sort by 'value1' in ascending order\n",
    "processed_data = processed_data.sort_values(by=[\"question\"])\n",
    "# Convert float to int\n",
    "processed_data[\"question\"] = processed_data[\"question\"].astype(int)\n",
    "processed_data[\"selection\"] = processed_data[\"selection\"].astype(int)\n",
    "\n",
    "# Define your first ground truth and selection control\n",
    "ground_truth_1 = [0, 1, 0, 1, 0, 1, 0, 1, 0, 1, 0, 1, 0, 1, 0, 1, 0, 1, 0, 1]\n",
    "selection_control_1 = [\n",
    "    [0, 2],  # Compare DDS vs. Textinv\n",
    "    [4, 0]   # Compare DreamSound vs. DDS\n",
    "]\n",
    "\n",
    "# Load your DataFrame (ensure the data is already processed)\n",
    "# Example: processed_data = pd.read_csv('your_data.csv')\n",
    "\n",
    "# Define model names\n",
    "model_names = [\"dds\", \"musicmagus\", \"zeta\"]\n",
    "\n",
    "# Define audio type map dynamically\n",
    "audio_type_map = {\n",
    "    \"dds\": 0,\n",
    "    \"ddim\": 1,\n",
    "    \"musicmagus\": 2,\n",
    "    \"sdedit\": 3,\n",
    "    \"zeta\": 4,\n",
    "}\n",
    "\n",
    "analyze_question_set(processed_data, ground_truth_1, selection_control_1, model_names, audio_type_map)\n"
   ]
  },
  {
   "cell_type": "code",
   "execution_count": null,
   "metadata": {},
   "outputs": [],
   "source": [
    "# Call the function to analyze the first question set\n",
    "processed_data = data[data['question_type'] == 'test2'].drop_duplicates()\n",
    "# Sort by 'value1' in ascending order\n",
    "processed_data = processed_data.sort_values(by=[\"question\"])\n",
    "# Convert float to int\n",
    "processed_data[\"question\"] = processed_data[\"question\"].astype(int)\n",
    "processed_data[\"selection\"] = processed_data[\"selection\"].astype(int)\n",
    "\n",
    "# Define your second ground truth and selection control (if different set of questions)\n",
    "ground_truth_2 = [1, 0, 1, 0, 1, 0, 1, 0, 1, 0, 1, 0, 1, 0, 1, 0, 1, 0, 1, 0]\n",
    "selection_control_2 = [\n",
    "    [0, 2],  # Compare DDS vs. DreamSound\n",
    "    [1, 0]   # Compare Textinv vs. DDS\n",
    "]\n",
    "\n",
    "# Define model names\n",
    "model_names = [\"dds\", \"textinv\", \"dreamsound\"]\n",
    "\n",
    "# Define audio type map dynamically\n",
    "audio_type_map = {\n",
    "    \"dds\": 0,\n",
    "    \"textinv\": 1,\n",
    "    \"dreamsound\": 2\n",
    "}\n",
    "\n",
    "# Call the function to analyze the second question set\n",
    "analyze_question_set(processed_data, ground_truth_2, selection_control_2, model_names, audio_type_map)\n"
   ]
  },
  {
   "cell_type": "code",
   "execution_count": null,
   "metadata": {},
   "outputs": [],
   "source": []
  }
 ],
 "metadata": {
  "kernelspec": {
   "display_name": "listening",
   "language": "python",
   "name": "python3"
  },
  "language_info": {
   "codemirror_mode": {
    "name": "ipython",
    "version": 3
   },
   "file_extension": ".py",
   "mimetype": "text/x-python",
   "name": "python",
   "nbconvert_exporter": "python",
   "pygments_lexer": "ipython3",
   "version": "3.10.16"
  }
 },
 "nbformat": 4,
 "nbformat_minor": 2
}
